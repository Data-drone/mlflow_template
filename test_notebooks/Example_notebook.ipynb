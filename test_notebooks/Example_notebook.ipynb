{
 "cells": [
  {
   "cell_type": "code",
   "execution_count": 26,
   "id": "critical-gibraltar",
   "metadata": {},
   "outputs": [],
   "source": [
    "from pprint import pprint\n",
    "\n",
    "import numpy as np\n",
    "from sklearn.linear_model import LinearRegression\n",
    "\n",
    "import mlflow\n",
    "import os\n",
    "#from utils import fetch_logged_data"
   ]
  },
  {
   "cell_type": "code",
   "execution_count": null,
   "id": "coordinated-welding",
   "metadata": {},
   "outputs": [],
   "source": [
    "# we need to specify the MLFLOW_S3_ENDPOINT_URL to our minio server\n",
    "# we need to also set the tracking uri to the right instance"
   ]
  },
  {
   "cell_type": "code",
   "execution_count": 36,
   "id": "settled-producer",
   "metadata": {},
   "outputs": [],
   "source": [
    "os.environ['MLFLOW_S3_ENDPOINT_URL'] = 'http://172.17.0.4:9000'"
   ]
  },
  {
   "cell_type": "code",
   "execution_count": 37,
   "id": "conscious-safety",
   "metadata": {},
   "outputs": [],
   "source": [
    "mlflow.tracking.set_tracking_uri(\"http://172.17.0.6:5000/\")"
   ]
  },
  {
   "cell_type": "code",
   "execution_count": 38,
   "id": "crude-willow",
   "metadata": {},
   "outputs": [
    {
     "name": "stdout",
     "output_type": "stream",
     "text": [
      "Logged data and model in run ed68e091809d49bca9cccf7c2c927fa6\n"
     ]
    }
   ],
   "source": [
    "mlflow.sklearn.autolog()\n",
    "\n",
    "# prepare training data\n",
    "X = np.array([[1, 1], [1, 2], [2, 2], [2, 3]])\n",
    "y = np.dot(X, np.array([1, 2])) + 3\n",
    "\n",
    "# train a model\n",
    "model = LinearRegression()\n",
    "with mlflow.start_run() as run:\n",
    "    model.fit(X, y)\n",
    "    print(\"Logged data and model in run {}\".format(run.info.run_id))\n",
    "\n",
    "# show logged data\n",
    "#for key, data in fetch_logged_data(run.info.run_id).items():\n",
    "#    print(\"\\n---------- logged {} ----------\".format(key))\n",
    "#    pprint(data)"
   ]
  }
 ],
 "metadata": {
  "kernelspec": {
   "display_name": "Python [conda env:rapids]",
   "language": "python",
   "name": "conda-env-rapids-py"
  },
  "language_info": {
   "codemirror_mode": {
    "name": "ipython",
    "version": 3
   },
   "file_extension": ".py",
   "mimetype": "text/x-python",
   "name": "python",
   "nbconvert_exporter": "python",
   "pygments_lexer": "ipython3",
   "version": "3.8.8"
  }
 },
 "nbformat": 4,
 "nbformat_minor": 5
}
